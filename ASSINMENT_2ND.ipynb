{
 "cells": [
  {
   "cell_type": "markdown",
   "id": "3cb54f10-b8ee-4b30-99e0-6dcd97ec20d5",
   "metadata": {},
   "source": [
    "Q1. Create a List L that is defined as= [10, 20, 30, 40, 50, 60, 70, 80]. i. WAP to add 200 and 300 to L. ii. WAP to remove 10 and 30 from L. iii. WAP to sort L in ascending order. iv. WAP to sort L in descending order.*/"
   ]
  },
  {
   "cell_type": "code",
   "execution_count": 4,
   "id": "9464c60d-01d2-401a-b5cb-929c7d07eca0",
   "metadata": {},
   "outputs": [
    {
     "name": "stdout",
     "output_type": "stream",
     "text": [
      "i. adding 200 and 300 to L:\n",
      "[10, 20, 30, 40, 50, 60, 70, 80, 200, 300]\n",
      "ii. removing 10 and 30 from L:\n",
      "[20, 40, 50, 60, 70, 80, 200, 300]\n",
      "iii. sorting L in ascending order:\n",
      "[20, 40, 50, 60, 70, 80, 200, 300]\n",
      "iv. sorting L in descending order:\n",
      "[300, 200, 80, 70, 60, 50, 40, 20]\n"
     ]
    }
   ],
   "source": [
    "L = [10,20,30,40,50,60,70,80]\n",
    "print(\"i. adding 200 and 300 to L:\")\n",
    "L.extend([200,300])\n",
    "print(L)\n",
    "\n",
    "print(\"ii. removing 10 and 30 from L:\")\n",
    "L.remove(10)\n",
    "L.remove(30)\n",
    "print(L)\n",
    "\n",
    "print(\"iii. sorting L in ascending order:\")\n",
    "print(sorted(L))\n",
    "\n",
    "print(\"iv. sorting L in descending order:\")\n",
    "print(sorted(L,reverse=True))"
   ]
  },
  {
   "cell_type": "markdown",
   "id": "8bfc8a37-7196-4a46-baa2-a8d4935c55d3",
   "metadata": {},
   "source": [
    "Q2. Create a tuple of marks scored as scores = (45, 89.5, 76, 45.4, 89, 92, 58, 45) and perform the following operations using tuple functions: i. Identify the highest score and its index in the tuple. ii. Find the lowest score and count how many times it appears. iii. Reverse the tuple and return it as a list. iv. Check if a specific score ‘76’ (input by the user) is present in the tuple and print its first occurrence index, or a message saying it’s not present.**"
   ]
  },
  {
   "cell_type": "code",
   "execution_count": 15,
   "id": "1769b18e-ea0b-4e4a-b4d8-dd9bc2a196e3",
   "metadata": {},
   "outputs": [
    {
     "name": "stdout",
     "output_type": "stream",
     "text": [
      "Highest Score: 92, Index: 5\n",
      "Lowest Score: 45, Count: 2\n",
      "Reversed List: [45, 58, 92, 89, 45.4, 76, 89.5, 45]\n",
      "76 is present at Index: 2\n"
     ]
    }
   ],
   "source": [
    "scores = (45, 89.5, 76, 45.4, 89, 92, 58, 45)\n",
    "\n",
    "highest = max(scores)\n",
    "highest_index = scores.index(highest)\n",
    "lowest = min(scores)\n",
    "lowest_count = scores.count(lowest)\n",
    "reversed_list = list(scores[::-1])\n",
    "x = 76\n",
    "if x in scores:\n",
    "    x_index = scores.index(x)\n",
    "    print(f\"Highest Score: {highest}, Index: {highest_index}\\nLowest Score: {lowest}, Count: {lowest_count}\\nReversed List: {reversed_list}\\n76 is present at Index: {x_index}\")\n",
    "else:\n",
    "    print(f\"Highest Score: {highest}, Index: {highest_index}\\nLowest Score: {lowest}, Count: {lowest_count}\\nReversed List: {reversed_list}\\n76 is not present\")\n"
   ]
  },
  {
   "cell_type": "markdown",
   "id": "0170a19b-8796-470f-b055-f2de1164633e",
   "metadata": {},
   "source": [
    "Q3. WAP to create a list of 100 random numbers between 100 and 900. Count and print the: i. All odd numbers ii. All even numbers iii. All prime numbers/"
   ]
  },
  {
   "cell_type": "code",
   "execution_count": 22,
   "id": "f159d5df-7156-4dd5-8170-dc4ce3c1544a",
   "metadata": {},
   "outputs": [
    {
     "name": "stdout",
     "output_type": "stream",
     "text": [
      "Odd Numbers: [607, 297, 559, 701, 305, 701, 747, 479, 697, 369, 701, 563, 305, 113, 595, 235, 353, 343, 555, 553, 201, 493, 455, 633, 799, 531, 603, 711, 665, 281, 839, 187, 329, 291, 593, 249, 733, 567, 649, 187]\n",
      "Even Numbers: [330, 108, 262, 118, 526, 652, 890, 604, 878, 370, 684, 596, 696, 246, 662, 652, 396, 828, 826, 154, 206, 826, 312, 532, 332, 234, 198, 374, 806, 548, 378, 878, 484, 428, 748, 360, 722, 860, 792, 840, 692, 870, 598, 672, 304, 572, 716, 470, 726, 886, 246, 860, 616, 254, 174, 184, 586, 858, 632, 866]\n",
      "Prime Numbers: [607, 701, 701, 479, 701, 563, 113, 353, 281, 839, 593, 733]\n",
      "\n",
      "Count of Odd Numbers: 40\n",
      "Count of Even Numbers: 60\n",
      "Count of Prime Numbers: 12\n"
     ]
    }
   ],
   "source": [
    "import random\n",
    "\n",
    "def is_prime(n):\n",
    "    if n <= 1:\n",
    "        return False\n",
    "    for i in range(2, int(n ** 0.5) + 1):\n",
    "        if n % i == 0:\n",
    "            return False\n",
    "    return True\n",
    "\n",
    "random_numbers = [random.randint(100, 900) for _ in range(100)]\n",
    "\n",
    "odd_numbers = []\n",
    "even_numbers = []\n",
    "prime_numbers = []\n",
    "\n",
    "for num in random_numbers:\n",
    "    if num % 2 == 0:\n",
    "        even_numbers.append(num)\n",
    "    else:\n",
    "        odd_numbers.append(num)\n",
    "\n",
    "    if is_prime(num):\n",
    "        prime_numbers.append(num)\n",
    "\n",
    "print(\"Odd Numbers:\", odd_numbers)\n",
    "print(\"Even Numbers:\", even_numbers)\n",
    "print(\"Prime Numbers:\", prime_numbers)\n",
    "\n",
    "print(\"\\nCount of Odd Numbers:\", len(odd_numbers))\n",
    "print(\"Count of Even Numbers:\", len(even_numbers))\n",
    "print(\"Count of Prime Numbers:\", len(prime_numbers))\n"
   ]
  },
  {
   "cell_type": "markdown",
   "id": "f3238da8-dcda-4822-9d83-29a29b5551d5",
   "metadata": {},
   "source": [
    "Q4. Consider the following two sets, A and B, representing scores of two teams in multiple matches. A = {34, 56, 78, 90} and B = {78, 45, 90, 23} WAP to perform the following operations using set functions: i. Find the unique scores achieved by both teams (union of sets). ii. Identify the scores that are common to both teams (intersection of sets). iii. Find the scores that are exclusive to each team (symmetric difference). iv. Check if the scores of team A are a subset of team B, and if team B's scores are a superset of team A. v. Remove a specific score 𝑋 (input by the user) from set A if it exists. If not, print a message saying it is not present.\r\n"
   ]
  },
  {
   "cell_type": "markdown",
   "id": "1435ba86-dc7d-4019-8547-4e2b640aa50e",
   "metadata": {},
   "source": [
    "A = {34, 56, 78, 90}\n",
    "B = {78, 45, 90, 23}\n",
    "\n",
    "union = A.union(B)\n",
    "print(\"Union of A and B (Unique Scores):\", union)\n",
    "\n",
    "intersection = A.intersection(B)\n",
    "print(\"Intersection of A and B (Common Scores):\", intersection)\n",
    "\n",
    "symmetric_difference = A.symmetric_difference(B)\n",
    "print(\"Symmetric Difference (Exclusive Scores):\", symmetric_difference)\n",
    "\n",
    "is_subset_A_B = A.issubset(B)\n",
    "is_superset_B_A = B.issuperset(A)\n",
    "print(f\"Is A a subset of B? {is_subset_A_B}\")\n",
    "print(f\"Is B a superset of A? {is_superset_B_A}\")\n",
    "\n",
    "X = int(input(\"Enter the score to remove from set A: \"))\n",
    "if X in A:\n",
    "    A.remove(X)\n",
    "    print(f\"Score {X} removed from set A.\")\n",
    "else:\n",
    "    print(f\"Score {X} is not present in set A.\")\n"
   ]
  },
  {
   "cell_type": "markdown",
   "id": "5679ff00-695e-4bbd-bf93-9ec306163665",
   "metadata": {},
   "source": [
    "Q5. Write a program to rename a key city to a location in the following dictionary\r\n"
   ]
  },
  {
   "cell_type": "code",
   "execution_count": 30,
   "id": "90f896d6-24b8-41ac-9dab-3e2ad3cd57ef",
   "metadata": {},
   "outputs": [
    {
     "name": "stdout",
     "output_type": "stream",
     "text": [
      "Original Dictionary: {'New York': 'USA', 'London': 'UK', 'Tokyo': 'Japan'}\n",
      "Key renamed: London -> Manchester\n",
      "Updated Dictionary: {'New York': 'USA', 'Tokyo': 'Japan', 'Manchester': 'UK'}\n"
     ]
    }
   ],
   "source": [
    "def rename_key(city_dict, old_key, new_key):\n",
    "    if old_key in city_dict:\n",
    "        city_dict[new_key] = city_dict.pop(old_key)\n",
    "        print(f\"Key renamed: {old_key} -> {new_key}\")\n",
    "    else:\n",
    "        print(f\"Key '{old_key}' not found in the dictionary.\")\n",
    "city_dict = {\n",
    "    \"New York\": \"USA\",\n",
    "    \"London\": \"UK\",\n",
    "    \"Tokyo\": \"Japan\"\n",
    "}\n",
    "\n",
    "print(\"Original Dictionary:\", city_dict)\n",
    "rename_key(city_dict, \"London\", \"Manchester\")\n",
    "print(\"Updated Dictionary:\", city_dict)\n"
   ]
  },
  {
   "cell_type": "code",
   "execution_count": null,
   "id": "98a890fe-3b7b-402a-9ab1-7af101d51c5c",
   "metadata": {},
   "outputs": [],
   "source": []
  }
 ],
 "metadata": {
  "kernelspec": {
   "display_name": "anaconda-2024.02-py310",
   "language": "python",
   "name": "conda-env-anaconda-2024.02-py310-py"
  },
  "language_info": {
   "codemirror_mode": {
    "name": "ipython",
    "version": 3
   },
   "file_extension": ".py",
   "mimetype": "text/x-python",
   "name": "python",
   "nbconvert_exporter": "python",
   "pygments_lexer": "ipython3",
   "version": "3.10.14"
  }
 },
 "nbformat": 4,
 "nbformat_minor": 5
}
